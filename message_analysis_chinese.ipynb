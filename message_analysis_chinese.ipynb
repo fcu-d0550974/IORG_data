{
 "cells": [
  {
   "cell_type": "code",
   "execution_count": 1,
   "metadata": {},
   "outputs": [],
   "source": [
    "from opencc import OpenCC\n",
    "import pandas as pd\n",
    "import numpy as np\n",
    "import csv\n",
    "import xlrd"
   ]
  },
  {
   "cell_type": "code",
   "execution_count": null,
   "metadata": {},
   "outputs": [],
   "source": [
    "df = pd.read_csv('wenyi_11.csv')\n",
    "df_case = pd.DataFrame(df)\n",
    "sc = 'Simplified_C.txt'\n",
    "\n",
    "#新增欄位\n",
    "df_case.insert(4, column = 'has_simplified_chinese',value ='')\n",
    "df_case.insert(5, column = 'total_size',value ='')  \n",
    "\n",
    "#一行一行讀，讀到'\\n'自動換行\n",
    "with open(sc,'r', encoding='utf-8') as f:\n",
    "    sc_txt = f.readlines()\n",
    "    sc_txt = [word.rstrip() for word in sc_txt]\n",
    "\n",
    "test=[]\n",
    "for a in range(len(df)):\n",
    "    b = df['original_text'][a]\n",
    "    x = 0\n",
    "    for c in b:\n",
    "        if c in sc_txt:\n",
    "            x = 1\n",
    "    if x == 1:\n",
    "        test.append('1')\n",
    "    else:\n",
    "        test.append('0')\n",
    "        \n",
    "\n",
    "df_case['has_simplified_chinese'] = test\n",
    "\n",
    "df_case.groupby(['published_date']).size()\n",
    "\n",
    "# df_group = df_case.groupby(['published_date']).size().reset_index(name='total_size')\n",
    "df_group = df_case.groupby(['published_date', 'has_simplified_chinese']).size().reset_index(name='simplified_chinese_size')\n",
    "df_group_all = df_group.groupby(['published_date', 'simplified_chinese_size']).size()\n",
    "\n",
    "df_group_sc = df_group.loc[df_group['has_simplified_chinese']=='1']\n",
    "\n",
    "\n",
    "\n",
    "print(df_group_sc)\n",
    "# print(df_group.loc[df_group['has_simplified_chinese']=='1'])\n",
    "# print('- - - - - - - - - - - - - - - - - - - - - - - ')\n",
    "# print(df_group.loc[df_group['count']=='0'])\n"
   ]
  }
 ],
 "metadata": {
  "kernelspec": {
   "display_name": "Python 3",
   "language": "python",
   "name": "python3"
  },
  "language_info": {
   "codemirror_mode": {
    "name": "ipython",
    "version": 3
   },
   "file_extension": ".py",
   "mimetype": "text/x-python",
   "name": "python",
   "nbconvert_exporter": "python",
   "pygments_lexer": "ipython3",
   "version": "3.8.5"
  }
 },
 "nbformat": 4,
 "nbformat_minor": 4
}
