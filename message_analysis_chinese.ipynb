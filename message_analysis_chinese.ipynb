{
 "cells": [
  {
   "cell_type": "code",
   "execution_count": 1,
   "metadata": {},
   "outputs": [],
   "source": [
    "from opencc import OpenCC\n",
    "import pandas as pd\n",
    "import numpy as np\n",
    "import csv\n",
    "import xlrd"
   ]
  },
  {
   "cell_type": "code",
   "execution_count": 41,
   "metadata": {},
   "outputs": [
    {
     "name": "stdout",
     "output_type": "stream",
     "text": [
      "published_date\n",
      "2020/2/26      3\n",
      "2020/2/27      2\n",
      "2020/2/28      6\n",
      "2020/2/29     12\n",
      "2020/3/1      17\n",
      "2020/3/10     15\n",
      "2020/3/11      9\n",
      "2020/3/12      3\n",
      "2020/3/13     10\n",
      "2020/3/14      5\n",
      "2020/3/15      5\n",
      "2020/3/16      8\n",
      "2020/3/17      5\n",
      "2020/3/18      3\n",
      "2020/3/19      4\n",
      "2020/3/2      46\n",
      "2020/3/20      2\n",
      "2020/3/22      1\n",
      "2020/3/24      4\n",
      "2020/3/25      2\n",
      "2020/3/27      1\n",
      "2020/3/3     130\n",
      "2020/3/4     160\n",
      "2020/3/5     192\n",
      "2020/3/6     122\n",
      "2020/3/7      43\n",
      "2020/3/8      21\n",
      "2020/3/9      14\n",
      "2020/4/1       1\n",
      "2020/4/10      1\n",
      "2020/4/7       1\n",
      "2020/4/8       1\n",
      "2020/4/9       1\n",
      "2020/5/4       1\n",
      "2020/6/23      1\n",
      "dtype: int64\n"
     ]
    }
   ],
   "source": [
    "df = pd.read_csv('wenyi_11.csv')\n",
    "sc = 'Simplified_C.txt'\n",
    "\n",
    "df['has_simplified_chinese'] = ''\n",
    "df['total_size'] = ''\n",
    "\n",
    "\n",
    "#一行一行讀，讀到'\\n'自動換行\n",
    "with open(sc,'r', encoding='utf-8') as f:\n",
    "    sc_txt = f.readlines()\n",
    "    sc_txt = [word.rstrip() for word in sc_txt]\n",
    "    \n",
    "test=[]\n",
    "for a in range(len(df)):\n",
    "    b = df['original_text'][a]\n",
    "    x = 0\n",
    "    for c in b:\n",
    "        if c in sc_txt:\n",
    "            x = 1\n",
    "    if x == 1:\n",
    "        test.append(1)\n",
    "    else:\n",
    "        test.append(0)\n",
    "        \n",
    "df['has_simplified_chinese'] = test\n",
    "\n",
    "#totle_size\n",
    "df.groupby(['published_date']).size()\n",
    "\n",
    "#has_simplified_chinese\n",
    "df[\"has_simplified_chinese\"] = df[\"has_simplified_chinese\"].astype(int)\n",
    "# df.groupby(['has_simplified_chinese']).sum()\n",
    "\n",
    "print(df.groupby(['published_date']).size())"
   ]
  },
  {
   "cell_type": "code",
   "execution_count": 34,
   "metadata": {},
   "outputs": [
    {
     "name": "stdout",
     "output_type": "stream",
     "text": [
      "id                        object\n",
      "original_text             object\n",
      "published_date            object\n",
      "label                      int64\n",
      "has_simplified_chinese     int32\n",
      "total_size                object\n",
      "dtype: object\n"
     ]
    }
   ],
   "source": [
    "print(df.dtypes)"
   ]
  }
 ],
 "metadata": {
  "kernelspec": {
   "display_name": "Python 3",
   "language": "python",
   "name": "python3"
  },
  "language_info": {
   "codemirror_mode": {
    "name": "ipython",
    "version": 3
   },
   "file_extension": ".py",
   "mimetype": "text/x-python",
   "name": "python",
   "nbconvert_exporter": "python",
   "pygments_lexer": "ipython3",
   "version": "3.8.5"
  }
 },
 "nbformat": 4,
 "nbformat_minor": 4
}
