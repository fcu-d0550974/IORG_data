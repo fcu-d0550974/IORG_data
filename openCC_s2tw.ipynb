{
 "cells": [
  {
   "cell_type": "code",
   "execution_count": null,
   "metadata": {},
   "outputs": [],
   "source": [
    "import csv\n",
    "import pandas as pd\n",
    "import numpy as np\n",
    "from opencc import OpenCC\n",
    "from ckiptagger import WS, POS, NER"
   ]
  },
  {
   "cell_type": "code",
   "execution_count": null,
   "metadata": {},
   "outputs": [],
   "source": [
    "#簡轉繁\n",
    "df = pd.read_csv('D:/Google 雲端/研究所/IORG/Simplifed_chinese/case_498.csv')\n",
    "df['original_text'] = df['original_text'].astype(str)\n",
    "\n",
    "list = []\n",
    "with open('case_498.csv', 'w', encoding = 'utf-8', newline='') as file:\n",
    "    writer = csv.writer(file, delimiter=',')\n",
    "    for a in range(len(df)):\n",
    "        b = df['original_text'][a]\n",
    "        cc = OpenCC('s2tw')\n",
    "        tw_word = cc.convert(b)\n",
    "#         tw_word.encode('utf-8')\n",
    "#         print(tw_word)\n",
    "    \n",
    "        writer.writerows(tw_word)"
   ]
  }
 ],
 "metadata": {
  "kernelspec": {
   "display_name": "Python 3",
   "language": "python",
   "name": "python3"
  },
  "language_info": {
   "codemirror_mode": {
    "name": "ipython",
    "version": 3
   },
   "file_extension": ".py",
   "mimetype": "text/x-python",
   "name": "python",
   "nbconvert_exporter": "python",
   "pygments_lexer": "ipython3",
   "version": "3.8.5"
  }
 },
 "nbformat": 4,
 "nbformat_minor": 4
}
