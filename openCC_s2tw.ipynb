{
 "cells": [
  {
   "cell_type": "code",
   "execution_count": null,
   "metadata": {},
   "outputs": [],
   "source": [
    "import csv\n",
    "import pandas as pd\n",
    "import numpy as np\n",
    "from opencc import OpenCC\n",
    "from ckiptagger import WS, POS, NER"
   ]
  },
  {
   "cell_type": "code",
   "execution_count": null,
   "metadata": {},
   "outputs": [],
   "source": [
    "#轉繁體\n",
    "cc = OpenCC('s2tw')\n",
    "df = pd.read_csv(\"D:/Google 雲端/研究所/IORG/Simplifed_chinese/case_498.csv\")\n",
    "df['original_text'] = df['original_text'].astype(str)\n",
    "\n",
    "b = []\n",
    "for a in range(len(df)):\n",
    "    b.append(df['original_text'][a].replace('\\n',''))\n",
    "\n",
    "df.insert(4, column = 'original_text_converted', value = b)\n",
    "df['original_text_converted'] = df['original_text_converted'].apply(lambda x: cc.convert(x))\n",
    "    \n",
    "print(df)\n",
    "\n",
    "df.to_csv(\"converted_case_498.csv\")"
   ]
  },
  {
   "cell_type": "code",
   "execution_count": null,
   "metadata": {},
   "outputs": [],
   "source": [
    "#斷詞\n",
    "df = pd.read_csv('converted_case_498.csv')\n",
    "df['original_text_converted'] = df['original_text_converted'].astype(str)\n",
    "\n",
    "ws = WS(\"./data\")\n",
    "\n",
    "for c in range(len(df)):\n",
    "#     d = list(df['original_text_converted'][c])\n",
    "    ws_results = ws([str(df['original_text_converted'])])\n",
    "    print(ws_results)\n",
    "    print('\\n')"
   ]
  }
 ],
 "metadata": {
  "kernelspec": {
   "display_name": "Python 3",
   "language": "python",
   "name": "python3"
  },
  "language_info": {
   "codemirror_mode": {
    "name": "ipython",
    "version": 3
   },
   "file_extension": ".py",
   "mimetype": "text/x-python",
   "name": "python",
   "nbconvert_exporter": "python",
   "pygments_lexer": "ipython3",
   "version": "3.8.5"
  }
 },
 "nbformat": 4,
 "nbformat_minor": 4
}
